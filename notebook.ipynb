{
 "cells": [
  {
   "cell_type": "code",
   "id": "initial_id",
   "metadata": {
    "collapsed": true,
    "ExecuteTime": {
     "end_time": "2025-03-16T11:42:56.997132Z",
     "start_time": "2025-03-16T11:42:56.003658Z"
    }
   },
   "source": [
    "import pandas as pd\n",
    "from sklearn.cluster import KMeans\n",
    "from datetime import timedelta\n",
    "import numpy as np\n",
    "import matplotlib.pyplot as plt"
   ],
   "outputs": [],
   "execution_count": 33
  },
  {
   "metadata": {
    "ExecuteTime": {
     "end_time": "2025-03-16T11:42:58.589123Z",
     "start_time": "2025-03-16T11:42:58.559934Z"
    }
   },
   "cell_type": "code",
   "source": [
    "transactions = pd.read_csv(\"customer_transactions.csv\")\n",
    "transactions.head()"
   ],
   "id": "99bcec9642847197",
   "outputs": [
    {
     "data": {
      "text/plain": [
       "   customer_id_legacy  transaction_id  purchase_amount purchase_date  \\\n",
       "0                 151            1001              408    2024-01-01   \n",
       "1                 192            1002              332    2024-01-02   \n",
       "2                 114            1003              442    2024-01-03   \n",
       "3                 171            1004              256    2024-01-04   \n",
       "4                 160            1005               64    2024-01-05   \n",
       "\n",
       "  product_category  customer_rating  \n",
       "0           Sports              2.3  \n",
       "1      Electronics              4.2  \n",
       "2      Electronics              2.1  \n",
       "3         Clothing              2.8  \n",
       "4         Clothing              1.3  "
      ],
      "text/html": [
       "<div>\n",
       "<style scoped>\n",
       "    .dataframe tbody tr th:only-of-type {\n",
       "        vertical-align: middle;\n",
       "    }\n",
       "\n",
       "    .dataframe tbody tr th {\n",
       "        vertical-align: top;\n",
       "    }\n",
       "\n",
       "    .dataframe thead th {\n",
       "        text-align: right;\n",
       "    }\n",
       "</style>\n",
       "<table border=\"1\" class=\"dataframe\">\n",
       "  <thead>\n",
       "    <tr style=\"text-align: right;\">\n",
       "      <th></th>\n",
       "      <th>customer_id_legacy</th>\n",
       "      <th>transaction_id</th>\n",
       "      <th>purchase_amount</th>\n",
       "      <th>purchase_date</th>\n",
       "      <th>product_category</th>\n",
       "      <th>customer_rating</th>\n",
       "    </tr>\n",
       "  </thead>\n",
       "  <tbody>\n",
       "    <tr>\n",
       "      <th>0</th>\n",
       "      <td>151</td>\n",
       "      <td>1001</td>\n",
       "      <td>408</td>\n",
       "      <td>2024-01-01</td>\n",
       "      <td>Sports</td>\n",
       "      <td>2.3</td>\n",
       "    </tr>\n",
       "    <tr>\n",
       "      <th>1</th>\n",
       "      <td>192</td>\n",
       "      <td>1002</td>\n",
       "      <td>332</td>\n",
       "      <td>2024-01-02</td>\n",
       "      <td>Electronics</td>\n",
       "      <td>4.2</td>\n",
       "    </tr>\n",
       "    <tr>\n",
       "      <th>2</th>\n",
       "      <td>114</td>\n",
       "      <td>1003</td>\n",
       "      <td>442</td>\n",
       "      <td>2024-01-03</td>\n",
       "      <td>Electronics</td>\n",
       "      <td>2.1</td>\n",
       "    </tr>\n",
       "    <tr>\n",
       "      <th>3</th>\n",
       "      <td>171</td>\n",
       "      <td>1004</td>\n",
       "      <td>256</td>\n",
       "      <td>2024-01-04</td>\n",
       "      <td>Clothing</td>\n",
       "      <td>2.8</td>\n",
       "    </tr>\n",
       "    <tr>\n",
       "      <th>4</th>\n",
       "      <td>160</td>\n",
       "      <td>1005</td>\n",
       "      <td>64</td>\n",
       "      <td>2024-01-05</td>\n",
       "      <td>Clothing</td>\n",
       "      <td>1.3</td>\n",
       "    </tr>\n",
       "  </tbody>\n",
       "</table>\n",
       "</div>"
      ]
     },
     "execution_count": 34,
     "metadata": {},
     "output_type": "execute_result"
    }
   ],
   "execution_count": 34
  },
  {
   "metadata": {
    "ExecuteTime": {
     "end_time": "2025-03-16T11:43:01.972189Z",
     "start_time": "2025-03-16T11:43:01.947394Z"
    }
   },
   "cell_type": "code",
   "source": "transactions.describe()",
   "id": "315f6561c663a888",
   "outputs": [
    {
     "data": {
      "text/plain": [
       "       customer_id_legacy  transaction_id  purchase_amount  customer_rating\n",
       "count          150.000000      150.000000       150.000000        140.00000\n",
       "mean           148.760000     1075.500000       280.780000          2.98500\n",
       "std             30.046425       43.445368       121.329595          1.20699\n",
       "min            100.000000     1001.000000        51.000000          1.00000\n",
       "25%            121.250000     1038.250000       179.000000          1.95000\n",
       "50%            150.500000     1075.500000       274.000000          3.00000\n",
       "75%            174.750000     1112.750000       388.500000          4.00000\n",
       "max            199.000000     1150.000000       495.000000          5.00000"
      ],
      "text/html": [
       "<div>\n",
       "<style scoped>\n",
       "    .dataframe tbody tr th:only-of-type {\n",
       "        vertical-align: middle;\n",
       "    }\n",
       "\n",
       "    .dataframe tbody tr th {\n",
       "        vertical-align: top;\n",
       "    }\n",
       "\n",
       "    .dataframe thead th {\n",
       "        text-align: right;\n",
       "    }\n",
       "</style>\n",
       "<table border=\"1\" class=\"dataframe\">\n",
       "  <thead>\n",
       "    <tr style=\"text-align: right;\">\n",
       "      <th></th>\n",
       "      <th>customer_id_legacy</th>\n",
       "      <th>transaction_id</th>\n",
       "      <th>purchase_amount</th>\n",
       "      <th>customer_rating</th>\n",
       "    </tr>\n",
       "  </thead>\n",
       "  <tbody>\n",
       "    <tr>\n",
       "      <th>count</th>\n",
       "      <td>150.000000</td>\n",
       "      <td>150.000000</td>\n",
       "      <td>150.000000</td>\n",
       "      <td>140.00000</td>\n",
       "    </tr>\n",
       "    <tr>\n",
       "      <th>mean</th>\n",
       "      <td>148.760000</td>\n",
       "      <td>1075.500000</td>\n",
       "      <td>280.780000</td>\n",
       "      <td>2.98500</td>\n",
       "    </tr>\n",
       "    <tr>\n",
       "      <th>std</th>\n",
       "      <td>30.046425</td>\n",
       "      <td>43.445368</td>\n",
       "      <td>121.329595</td>\n",
       "      <td>1.20699</td>\n",
       "    </tr>\n",
       "    <tr>\n",
       "      <th>min</th>\n",
       "      <td>100.000000</td>\n",
       "      <td>1001.000000</td>\n",
       "      <td>51.000000</td>\n",
       "      <td>1.00000</td>\n",
       "    </tr>\n",
       "    <tr>\n",
       "      <th>25%</th>\n",
       "      <td>121.250000</td>\n",
       "      <td>1038.250000</td>\n",
       "      <td>179.000000</td>\n",
       "      <td>1.95000</td>\n",
       "    </tr>\n",
       "    <tr>\n",
       "      <th>50%</th>\n",
       "      <td>150.500000</td>\n",
       "      <td>1075.500000</td>\n",
       "      <td>274.000000</td>\n",
       "      <td>3.00000</td>\n",
       "    </tr>\n",
       "    <tr>\n",
       "      <th>75%</th>\n",
       "      <td>174.750000</td>\n",
       "      <td>1112.750000</td>\n",
       "      <td>388.500000</td>\n",
       "      <td>4.00000</td>\n",
       "    </tr>\n",
       "    <tr>\n",
       "      <th>max</th>\n",
       "      <td>199.000000</td>\n",
       "      <td>1150.000000</td>\n",
       "      <td>495.000000</td>\n",
       "      <td>5.00000</td>\n",
       "    </tr>\n",
       "  </tbody>\n",
       "</table>\n",
       "</div>"
      ]
     },
     "execution_count": 35,
     "metadata": {},
     "output_type": "execute_result"
    }
   ],
   "execution_count": 35
  },
  {
   "metadata": {
    "ExecuteTime": {
     "end_time": "2025-03-16T11:43:05.245820Z",
     "start_time": "2025-03-16T11:43:05.238613Z"
    }
   },
   "cell_type": "code",
   "source": "transactions.isnull().sum()",
   "id": "49371a6ceea16358",
   "outputs": [
    {
     "data": {
      "text/plain": [
       "customer_id_legacy     0\n",
       "transaction_id         0\n",
       "purchase_amount        0\n",
       "purchase_date          0\n",
       "product_category       0\n",
       "customer_rating       10\n",
       "dtype: int64"
      ]
     },
     "execution_count": 36,
     "metadata": {},
     "output_type": "execute_result"
    }
   ],
   "execution_count": 36
  },
  {
   "metadata": {
    "ExecuteTime": {
     "end_time": "2025-03-16T11:43:08.077587Z",
     "start_time": "2025-03-16T11:43:08.074441Z"
    }
   },
   "cell_type": "code",
   "source": "# filling missing values with the mean of the column",
   "id": "75c3f4a2ab36fa99",
   "outputs": [],
   "execution_count": 37
  },
  {
   "metadata": {
    "ExecuteTime": {
     "end_time": "2025-03-16T11:43:10.914193Z",
     "start_time": "2025-03-16T11:43:10.887119Z"
    }
   },
   "cell_type": "code",
   "source": [
    "average_rating = transactions[\"customer_rating\"].mean()\n",
    "transactions.fillna(average_rating, inplace=True)\n",
    "transactions.describe()"
   ],
   "id": "3ee58ee10ce9f74a",
   "outputs": [
    {
     "data": {
      "text/plain": [
       "       customer_id_legacy  transaction_id  purchase_amount  customer_rating\n",
       "count          150.000000      150.000000       150.000000       150.000000\n",
       "mean           148.760000     1075.500000       280.780000         2.985000\n",
       "std             30.046425       43.445368       121.329595         1.165783\n",
       "min            100.000000     1001.000000        51.000000         1.000000\n",
       "25%            121.250000     1038.250000       179.000000         2.100000\n",
       "50%            150.500000     1075.500000       274.000000         2.985000\n",
       "75%            174.750000     1112.750000       388.500000         4.000000\n",
       "max            199.000000     1150.000000       495.000000         5.000000"
      ],
      "text/html": [
       "<div>\n",
       "<style scoped>\n",
       "    .dataframe tbody tr th:only-of-type {\n",
       "        vertical-align: middle;\n",
       "    }\n",
       "\n",
       "    .dataframe tbody tr th {\n",
       "        vertical-align: top;\n",
       "    }\n",
       "\n",
       "    .dataframe thead th {\n",
       "        text-align: right;\n",
       "    }\n",
       "</style>\n",
       "<table border=\"1\" class=\"dataframe\">\n",
       "  <thead>\n",
       "    <tr style=\"text-align: right;\">\n",
       "      <th></th>\n",
       "      <th>customer_id_legacy</th>\n",
       "      <th>transaction_id</th>\n",
       "      <th>purchase_amount</th>\n",
       "      <th>customer_rating</th>\n",
       "    </tr>\n",
       "  </thead>\n",
       "  <tbody>\n",
       "    <tr>\n",
       "      <th>count</th>\n",
       "      <td>150.000000</td>\n",
       "      <td>150.000000</td>\n",
       "      <td>150.000000</td>\n",
       "      <td>150.000000</td>\n",
       "    </tr>\n",
       "    <tr>\n",
       "      <th>mean</th>\n",
       "      <td>148.760000</td>\n",
       "      <td>1075.500000</td>\n",
       "      <td>280.780000</td>\n",
       "      <td>2.985000</td>\n",
       "    </tr>\n",
       "    <tr>\n",
       "      <th>std</th>\n",
       "      <td>30.046425</td>\n",
       "      <td>43.445368</td>\n",
       "      <td>121.329595</td>\n",
       "      <td>1.165783</td>\n",
       "    </tr>\n",
       "    <tr>\n",
       "      <th>min</th>\n",
       "      <td>100.000000</td>\n",
       "      <td>1001.000000</td>\n",
       "      <td>51.000000</td>\n",
       "      <td>1.000000</td>\n",
       "    </tr>\n",
       "    <tr>\n",
       "      <th>25%</th>\n",
       "      <td>121.250000</td>\n",
       "      <td>1038.250000</td>\n",
       "      <td>179.000000</td>\n",
       "      <td>2.100000</td>\n",
       "    </tr>\n",
       "    <tr>\n",
       "      <th>50%</th>\n",
       "      <td>150.500000</td>\n",
       "      <td>1075.500000</td>\n",
       "      <td>274.000000</td>\n",
       "      <td>2.985000</td>\n",
       "    </tr>\n",
       "    <tr>\n",
       "      <th>75%</th>\n",
       "      <td>174.750000</td>\n",
       "      <td>1112.750000</td>\n",
       "      <td>388.500000</td>\n",
       "      <td>4.000000</td>\n",
       "    </tr>\n",
       "    <tr>\n",
       "      <th>max</th>\n",
       "      <td>199.000000</td>\n",
       "      <td>1150.000000</td>\n",
       "      <td>495.000000</td>\n",
       "      <td>5.000000</td>\n",
       "    </tr>\n",
       "  </tbody>\n",
       "</table>\n",
       "</div>"
      ]
     },
     "execution_count": 38,
     "metadata": {},
     "output_type": "execute_result"
    }
   ],
   "execution_count": 38
  },
  {
   "metadata": {
    "ExecuteTime": {
     "end_time": "2025-03-16T11:43:18.426569Z",
     "start_time": "2025-03-16T11:43:18.423180Z"
    }
   },
   "cell_type": "code",
   "source": "# Apply log transformation to skewed data. (the puchase amount column)",
   "id": "2b0bb826d395e798",
   "outputs": [],
   "execution_count": 39
  },
  {
   "metadata": {
    "ExecuteTime": {
     "end_time": "2025-03-16T11:49:39.400182Z",
     "start_time": "2025-03-16T11:49:39.175230Z"
    }
   },
   "cell_type": "code",
   "source": [
    "\n",
    "# Histogram before transformation\n",
    "plt.hist(transactions['purchase_amount'], bins=50)\n",
    "plt.title('Before Log Transformation')\n",
    "plt.show()\n",
    "\n",
    "# Check skewness\n",
    "print(\"Skewness before:\", transactions['purchase_amount'].skew())\n",
    "\n",
    "transactions['purchase_amount_log'] = np.log1p(transactions['purchase_amount'])\n",
    "\n"
   ],
   "id": "e476425b142a95f2",
   "outputs": [
    {
     "data": {
      "text/plain": [
       "<Figure size 640x480 with 1 Axes>"
      ],
      "image/png": "[encoded data removed]"
     },
     "metadata": {},
     "output_type": "display_data"
    },
    {
     "name": "stdout",
     "output_type": "stream",
     "text": [
      "Skewness before: 0.05904654489479159\n"
     ]
    }
   ],
   "execution_count": 45
  },
  {
   "metadata": {
    "ExecuteTime": {
     "end_time": "2025-03-16T11:49:42.999626Z",
     "start_time": "2025-03-16T11:49:42.704723Z"
    }
   },
   "cell_type": "code",
   "source": [
    "plt.hist(transactions['purchase_amount_log'], bins=50)\n",
    "plt.title('After Log Transformation')\n",
    "plt.show()\n",
    "\n",
    "print(\"Skewness after:\", transactions['purchase_amount_log'].skew())\n"
   ],
   "id": "9a65023c8cf5cde6",
   "outputs": [
    {
     "data": {
      "text/plain": [
       "<Figure size 640x480 with 1 Axes>"
      ],
      "image/png": "[encoded data removed]"
     },
     "metadata": {},
     "output_type": "display_data"
    },
    {
     "name": "stdout",
     "output_type": "stream",
     "text": [
      "Skewness after: -0.8061226889979501\n"
     ]
    }
   ],
   "execution_count": 46
  },
  {
   "metadata": {
    "ExecuteTime": {
     "end_time": "2025-03-16T11:49:53.389729Z",
     "start_time": "2025-03-16T11:49:53.385346Z"
    }
   },
   "cell_type": "code",
   "source": [
    "# since the absolute value of the screwness in the origial data is closer to zero that that of the transformed data, we can say that the transformation was not necessary. so droping the transformed column (purchase_amount_log)\n",
    "\n",
    "transactions.drop('purchase_amount_log', axis=1, inplace=True)"
   ],
   "id": "f1750dadd0425a6f",
   "outputs": [],
   "execution_count": 48
  },
  {
   "metadata": {
    "ExecuteTime": {
     "end_time": "2025-03-16T11:49:56.159977Z",
     "start_time": "2025-03-16T11:49:56.147830Z"
    }
   },
   "cell_type": "code",
   "source": [
    "# synthetic data Generation\n",
    "transactions.head()"
   ],
   "id": "f5a6d2d3cae99349",
   "outputs": [
    {
     "data": {
      "text/plain": [
       "   customer_id_legacy  transaction_id  purchase_amount purchase_date  \\\n",
       "0                 151            1001              408    2024-01-01   \n",
       "1                 192            1002              332    2024-01-02   \n",
       "2                 114            1003              442    2024-01-03   \n",
       "3                 171            1004              256    2024-01-04   \n",
       "4                 160            1005               64    2024-01-05   \n",
       "\n",
       "  product_category  customer_rating  \n",
       "0           Sports              2.3  \n",
       "1      Electronics              4.2  \n",
       "2      Electronics              2.1  \n",
       "3         Clothing              2.8  \n",
       "4         Clothing              1.3  "
      ],
      "text/html": [
       "<div>\n",
       "<style scoped>\n",
       "    .dataframe tbody tr th:only-of-type {\n",
       "        vertical-align: middle;\n",
       "    }\n",
       "\n",
       "    .dataframe tbody tr th {\n",
       "        vertical-align: top;\n",
       "    }\n",
       "\n",
       "    .dataframe thead th {\n",
       "        text-align: right;\n",
       "    }\n",
       "</style>\n",
       "<table border=\"1\" class=\"dataframe\">\n",
       "  <thead>\n",
       "    <tr style=\"text-align: right;\">\n",
       "      <th></th>\n",
       "      <th>customer_id_legacy</th>\n",
       "      <th>transaction_id</th>\n",
       "      <th>purchase_amount</th>\n",
       "      <th>purchase_date</th>\n",
       "      <th>product_category</th>\n",
       "      <th>customer_rating</th>\n",
       "    </tr>\n",
       "  </thead>\n",
       "  <tbody>\n",
       "    <tr>\n",
       "      <th>0</th>\n",
       "      <td>151</td>\n",
       "      <td>1001</td>\n",
       "      <td>408</td>\n",
       "      <td>2024-01-01</td>\n",
       "      <td>Sports</td>\n",
       "      <td>2.3</td>\n",
       "    </tr>\n",
       "    <tr>\n",
       "      <th>1</th>\n",
       "      <td>192</td>\n",
       "      <td>1002</td>\n",
       "      <td>332</td>\n",
       "      <td>2024-01-02</td>\n",
       "      <td>Electronics</td>\n",
       "      <td>4.2</td>\n",
       "    </tr>\n",
       "    <tr>\n",
       "      <th>2</th>\n",
       "      <td>114</td>\n",
       "      <td>1003</td>\n",
       "      <td>442</td>\n",
       "      <td>2024-01-03</td>\n",
       "      <td>Electronics</td>\n",
       "      <td>2.1</td>\n",
       "    </tr>\n",
       "    <tr>\n",
       "      <th>3</th>\n",
       "      <td>171</td>\n",
       "      <td>1004</td>\n",
       "      <td>256</td>\n",
       "      <td>2024-01-04</td>\n",
       "      <td>Clothing</td>\n",
       "      <td>2.8</td>\n",
       "    </tr>\n",
       "    <tr>\n",
       "      <th>4</th>\n",
       "      <td>160</td>\n",
       "      <td>1005</td>\n",
       "      <td>64</td>\n",
       "      <td>2024-01-05</td>\n",
       "      <td>Clothing</td>\n",
       "      <td>1.3</td>\n",
       "    </tr>\n",
       "  </tbody>\n",
       "</table>\n",
       "</div>"
      ]
     },
     "execution_count": 49,
     "metadata": {},
     "output_type": "execute_result"
    }
   ],
   "execution_count": 49
  },
  {
   "metadata": {
    "ExecuteTime": {
     "end_time": "2025-03-16T11:50:07.095714Z",
     "start_time": "2025-03-16T11:50:07.016186Z"
    }
   },
   "cell_type": "code",
   "source": [
    "\n",
    "# Convert date column to datetime format\n",
    "transactions['purchase_date'] = pd.to_datetime(transactions['purchase_date'])\n",
    "\n",
    "# Select relevant numerical features for clustering\n",
    "features = transactions[['purchase_amount', 'customer_rating']].copy()\n",
    "\n",
    "\n",
    "# Apply K-Means clustering to group customers based on behavior\n",
    "num_clusters = 5  # Can be tuned\n",
    "kmeans = KMeans(n_clusters=num_clusters, random_state=42, n_init=10)\n",
    "transactions['cluster'] = kmeans.fit_predict(features)\n"
   ],
   "id": "a46db0d693eb684b",
   "outputs": [],
   "execution_count": 50
  },
  {
   "metadata": {
    "ExecuteTime": {
     "end_time": "2025-03-16T11:59:12.053471Z",
     "start_time": "2025-03-16T11:59:12.044133Z"
    }
   },
   "cell_type": "code",
   "source": [
    "def generate_synthetic_transaction(row):\n",
    "    cluster_id = row['cluster']\n",
    "\n",
    "    # Get cluster-specific transaction patterns\n",
    "    cluster_data = transactions[transactions['cluster'] == cluster_id]\n",
    "\n",
    "    if cluster_data.empty:\n",
    "        return pd.Series({'purchase_amount': row['purchase_amount'],\n",
    "                          'purchase_date': row['purchase_date'],\n",
    "                          'product_category': row['product_category']})\n",
    "\n",
    "    # Generate synthetic transaction values with noise\n",
    "    new_value = np.random.normal(cluster_data['purchase_amount'].mean(),\n",
    "                                 cluster_data['purchase_amount'].std())\n",
    "    new_value = max(0, new_value)  # Ensure non-negative values\n",
    "\n",
    "    # Shift purchase date within a similar timeframe\n",
    "    date_offset = np.random.randint(-30, 30)  # Random shift within ±30 days\n",
    "    new_date = row['purchase_date'] + timedelta(days=date_offset)\n",
    "\n",
    "    # Sample product category based on distribution within the same cluster\n",
    "    category_probs = cluster_data['product_category'].value_counts(normalize=True)\n",
    "    new_category = np.random.choice(category_probs.index, p=category_probs.values)\n",
    "\n",
    "    return pd.Series({'purchase_amount': new_value,\n",
    "                      'purchase_date': new_date,\n",
    "                      'product_category': new_category})"
   ],
   "id": "ee69ba4f5ad1c857",
   "outputs": [],
   "execution_count": 55
  },
  {
   "metadata": {
    "ExecuteTime": {
     "end_time": "2025-03-16T12:03:18.139660Z",
     "start_time": "2025-03-16T12:03:17.879477Z"
    }
   },
   "cell_type": "code",
   "source": [
    "# Apply the function to create synthetic data\n",
    "df_synthetic = transactions.copy()\n",
    "df_synthetic[['purchase_amount', 'purchase_date', 'product_category']] = df_synthetic.apply(generate_synthetic_transaction, axis=1)\n",
    "\n",
    "# Generate unique synthetic transaction IDs increments of 1\n",
    "df_synthetic['transaction_id'] = transactions['transaction_id'].max() + np.arange(1, len(df_synthetic) + 1)\n",
    "\n",
    "\n",
    "# Save synthetic dataset\n",
    "df_synthetic.to_csv(\"synthetic_dataset.csv\", index=False)\n",
    "\n",
    "# Display sample\n",
    "df_synthetic.head()"
   ],
   "id": "51720f55aa13ab02",
   "outputs": [
    {
     "data": {
      "text/plain": [
       "   customer_id_legacy  transaction_id  purchase_amount purchase_date  \\\n",
       "0                 151            1001              408    2024-01-01   \n",
       "1                 192            1002              332    2024-01-02   \n",
       "2                 114            1003              442    2024-01-03   \n",
       "3                 171            1004              256    2024-01-04   \n",
       "4                 160            1005               64    2024-01-05   \n",
       "\n",
       "  product_category  customer_rating  cluster  \n",
       "0           Sports              2.3        4  \n",
       "1      Electronics              4.2        4  \n",
       "2      Electronics              2.1        1  \n",
       "3         Clothing              2.8        0  \n",
       "4         Clothing              1.3        2  "
      ],
      "text/html": [
       "<div>\n",
       "<style scoped>\n",
       "    .dataframe tbody tr th:only-of-type {\n",
       "        vertical-align: middle;\n",
       "    }\n",
       "\n",
       "    .dataframe tbody tr th {\n",
       "        vertical-align: top;\n",
       "    }\n",
       "\n",
       "    .dataframe thead th {\n",
       "        text-align: right;\n",
       "    }\n",
       "</style>\n",
       "<table border=\"1\" class=\"dataframe\">\n",
       "  <thead>\n",
       "    <tr style=\"text-align: right;\">\n",
       "      <th></th>\n",
       "      <th>customer_id_legacy</th>\n",
       "      <th>transaction_id</th>\n",
       "      <th>purchase_amount</th>\n",
       "      <th>purchase_date</th>\n",
       "      <th>product_category</th>\n",
       "      <th>customer_rating</th>\n",
       "      <th>cluster</th>\n",
       "    </tr>\n",
       "  </thead>\n",
       "  <tbody>\n",
       "    <tr>\n",
       "      <th>0</th>\n",
       "      <td>151</td>\n",
       "      <td>1001</td>\n",
       "      <td>408</td>\n",
       "      <td>2024-01-01</td>\n",
       "      <td>Sports</td>\n",
       "      <td>2.3</td>\n",
       "      <td>4</td>\n",
       "    </tr>\n",
       "    <tr>\n",
       "      <th>1</th>\n",
       "      <td>192</td>\n",
       "      <td>1002</td>\n",
       "      <td>332</td>\n",
       "      <td>2024-01-02</td>\n",
       "      <td>Electronics</td>\n",
       "      <td>4.2</td>\n",
       "      <td>4</td>\n",
       "    </tr>\n",
       "    <tr>\n",
       "      <th>2</th>\n",
       "      <td>114</td>\n",
       "      <td>1003</td>\n",
       "      <td>442</td>\n",
       "      <td>2024-01-03</td>\n",
       "      <td>Electronics</td>\n",
       "      <td>2.1</td>\n",
       "      <td>1</td>\n",
       "    </tr>\n",
       "    <tr>\n",
       "      <th>3</th>\n",
       "      <td>171</td>\n",
       "      <td>1004</td>\n",
       "      <td>256</td>\n",
       "      <td>2024-01-04</td>\n",
       "      <td>Clothing</td>\n",
       "      <td>2.8</td>\n",
       "      <td>0</td>\n",
       "    </tr>\n",
       "    <tr>\n",
       "      <th>4</th>\n",
       "      <td>160</td>\n",
       "      <td>1005</td>\n",
       "      <td>64</td>\n",
       "      <td>2024-01-05</td>\n",
       "      <td>Clothing</td>\n",
       "      <td>1.3</td>\n",
       "      <td>2</td>\n",
       "    </tr>\n",
       "  </tbody>\n",
       "</table>\n",
       "</div>"
      ]
     },
     "execution_count": 62,
     "metadata": {},
     "output_type": "execute_result"
    }
   ],
   "execution_count": 62
  },
  {
   "metadata": {
    "ExecuteTime": {
     "end_time": "2025-03-16T12:06:36.318617Z",
     "start_time": "2025-03-16T12:06:36.303261Z"
    }
   },
   "cell_type": "code",
   "source": [
    "# merging both data and saving it\n",
    "\n",
    "augmented_df= pd.concat([transactions, df_synthetic], ignore_index=True)\n",
    "\n",
    "#dropping the cluster column\n",
    "\n",
    "augmented_df.drop('cluster', axis=1, inplace=True)\n",
    "\n",
    "augmented_df.to_csv(\"customer_transactions_augmented.csv\", index=False)\n"
   ],
   "id": "c85667e350694af",
   "outputs": [],
   "execution_count": 65
  },
  {
   "metadata": {},
   "cell_type": "code",
   "outputs": [],
   "execution_count": null,
   "source": "# Part 2: Merging Datasets with Transitive Properties\n",
   "id": "b794fc07a49f23"
  },
  {
   "metadata": {
    "ExecuteTime": {
     "end_time": "2025-03-16T16:38:12.311589Z",
     "start_time": "2025-03-16T16:38:12.279457Z"
    }
   },
   "cell_type": "code",
   "source": [
    "id_mapping = pd.read_csv(\"id_mapping.csv\")\n",
    "social_profile = pd.read_csv(\"customer_social_profiles.csv\")\n",
    "augmented_data = pd.read_csv(\"customer_transactions_augmented.csv\")\n",
    "\n",
    "\n",
    "id_mapping_filtered = id_mapping.drop_duplicates(subset=[\"customer_id_legacy\"], keep=\"first\")\n",
    "\n",
    "result = transactions.merge(id_mapping_filtered,  on=\"customer_id_legacy\",  how=\"left\")\n",
    "\n",
    "df_final = result.merge(social_profile,  on=\"customer_id_new\",  how=\"left\")\n",
    "\n",
    "\n",
    "df_final.head()\n",
    "\n",
    "\n"
   ],
   "id": "45629c46b950b924",
   "outputs": [
    {
     "data": {
      "text/plain": [
       "   customer_id_legacy  transaction_id  purchase_amount purchase_date  \\\n",
       "0                 151            1001              408    2024-01-01   \n",
       "1                 192            1002              332    2024-01-02   \n",
       "2                 114            1003              442    2024-01-03   \n",
       "3                 171            1004              256    2024-01-04   \n",
       "4                 160            1005               64    2024-01-05   \n",
       "\n",
       "  product_category  customer_rating  cluster customer_id_new  \\\n",
       "0           Sports              2.3        4            A176   \n",
       "1      Electronics              4.2        4            A156   \n",
       "2      Electronics              2.1        1            A171   \n",
       "3         Clothing              2.8        0             NaN   \n",
       "4         Clothing              1.3        2             NaN   \n",
       "\n",
       "  social_media_platform  engagement_score  purchase_interest_score  \\\n",
       "0              Facebook              70.0                      3.3   \n",
       "1             Instagram              52.0                      4.9   \n",
       "2                   NaN               NaN                      NaN   \n",
       "3                   NaN               NaN                      NaN   \n",
       "4                   NaN               NaN                      NaN   \n",
       "\n",
       "  review_sentiment  \n",
       "0         Negative  \n",
       "1         Positive  \n",
       "2              NaN  \n",
       "3              NaN  \n",
       "4              NaN  "
      ],
      "text/html": [
       "<div>\n",
       "<style scoped>\n",
       "    .dataframe tbody tr th:only-of-type {\n",
       "        vertical-align: middle;\n",
       "    }\n",
       "\n",
       "    .dataframe tbody tr th {\n",
       "        vertical-align: top;\n",
       "    }\n",
       "\n",
       "    .dataframe thead th {\n",
       "        text-align: right;\n",
       "    }\n",
       "</style>\n",
       "<table border=\"1\" class=\"dataframe\">\n",
       "  <thead>\n",
       "    <tr style=\"text-align: right;\">\n",
       "      <th></th>\n",
       "      <th>customer_id_legacy</th>\n",
       "      <th>transaction_id</th>\n",
       "      <th>purchase_amount</th>\n",
       "      <th>purchase_date</th>\n",
       "      <th>product_category</th>\n",
       "      <th>customer_rating</th>\n",
       "      <th>cluster</th>\n",
       "      <th>customer_id_new</th>\n",
       "      <th>social_media_platform</th>\n",
       "      <th>engagement_score</th>\n",
       "      <th>purchase_interest_score</th>\n",
       "      <th>review_sentiment</th>\n",
       "    </tr>\n",
       "  </thead>\n",
       "  <tbody>\n",
       "    <tr>\n",
       "      <th>0</th>\n",
       "      <td>151</td>\n",
       "      <td>1001</td>\n",
       "      <td>408</td>\n",
       "      <td>2024-01-01</td>\n",
       "      <td>Sports</td>\n",
       "      <td>2.3</td>\n",
       "      <td>4</td>\n",
       "      <td>A176</td>\n",
       "      <td>Facebook</td>\n",
       "      <td>70.0</td>\n",
       "      <td>3.3</td>\n",
       "      <td>Negative</td>\n",
       "    </tr>\n",
       "    <tr>\n",
       "      <th>1</th>\n",
       "      <td>192</td>\n",
       "      <td>1002</td>\n",
       "      <td>332</td>\n",
       "      <td>2024-01-02</td>\n",
       "      <td>Electronics</td>\n",
       "      <td>4.2</td>\n",
       "      <td>4</td>\n",
       "      <td>A156</td>\n",
       "      <td>Instagram</td>\n",
       "      <td>52.0</td>\n",
       "      <td>4.9</td>\n",
       "      <td>Positive</td>\n",
       "    </tr>\n",
       "    <tr>\n",
       "      <th>2</th>\n",
       "      <td>114</td>\n",
       "      <td>1003</td>\n",
       "      <td>442</td>\n",
       "      <td>2024-01-03</td>\n",
       "      <td>Electronics</td>\n",
       "      <td>2.1</td>\n",
       "      <td>1</td>\n",
       "      <td>A171</td>\n",
       "      <td>NaN</td>\n",
       "      <td>NaN</td>\n",
       "      <td>NaN</td>\n",
       "      <td>NaN</td>\n",
       "    </tr>\n",
       "    <tr>\n",
       "      <th>3</th>\n",
       "      <td>171</td>\n",
       "      <td>1004</td>\n",
       "      <td>256</td>\n",
       "      <td>2024-01-04</td>\n",
       "      <td>Clothing</td>\n",
       "      <td>2.8</td>\n",
       "      <td>0</td>\n",
       "      <td>NaN</td>\n",
       "      <td>NaN</td>\n",
       "      <td>NaN</td>\n",
       "      <td>NaN</td>\n",
       "      <td>NaN</td>\n",
       "    </tr>\n",
       "    <tr>\n",
       "      <th>4</th>\n",
       "      <td>160</td>\n",
       "      <td>1005</td>\n",
       "      <td>64</td>\n",
       "      <td>2024-01-05</td>\n",
       "      <td>Clothing</td>\n",
       "      <td>1.3</td>\n",
       "      <td>2</td>\n",
       "      <td>NaN</td>\n",
       "      <td>NaN</td>\n",
       "      <td>NaN</td>\n",
       "      <td>NaN</td>\n",
       "      <td>NaN</td>\n",
       "    </tr>\n",
       "  </tbody>\n",
       "</table>\n",
       "</div>"
      ]
     },
     "execution_count": 119,
     "metadata": {},
     "output_type": "execute_result"
    }
   ],
   "execution_count": 119
  },
  {
   "metadata": {
    "ExecuteTime": {
     "end_time": "2025-03-16T16:47:16.600874Z",
     "start_time": "2025-03-16T16:47:16.137744Z"
    }
   },
   "cell_type": "code",
   "source": [
    "df_final['sentiment_numeric'] = df_final['review_sentiment'].map({'positive': 1, 'negative': 0})\n",
    "\n",
    "df_final['normalized_sm_engagement'] = 100 * (df_final['engagement_score'] - df_final['engagement_score'].min()) / (df_final['engagement_score'].max() - df_final['engagement_score'].min())\n",
    "\n",
    "# Weight based on recency of purchases\n",
    "df_final['purchase_date'] = pd.to_datetime(df_final['purchase_date'])\n",
    "df_final['days_since_purchase'] = (pd.to_datetime('today') - df_final['purchase_date']).dt.days\n",
    "df_final['recency_weight'] = 1 / (1 + np.log1p(df_final['days_since_purchase']))\n",
    "\n",
    "# Use purchase amount as a factor\n",
    "df_final['purchase_amount_normalized'] = 100 * (df_final['purchase_amount'] - df_final['purchase_amount'].min()) / (df_final['purchase_amount'].max() - df_final['purchase_amount'].min())\n",
    "\n",
    "# Create composite engagement score\n",
    "df_final['customer_engagement_score'] = (\n",
    "    0.3 * df_final['normalized_sm_engagement'] +\n",
    "    0.3 * df_final['purchase_amount_normalized'] * df_final['recency_weight'] +\n",
    "    0.2 * df_final['purchase_interest_score'] +\n",
    "    0.2 * df_final['sentiment_numeric'] * 100\n",
    ")\n",
    "\n",
    "# 2. Moving Averages of Transactions\n",
    "df_final = df_final.sort_values(['customer_id_new', 'purchase_date'])\n",
    "\n",
    "# Group by customer and calculate moving averages\n",
    "customer_txn = df_final.groupby('customer_id_new')['purchase_amount']\n",
    "\n",
    "# 3-purchase moving average\n",
    "df_final['ma_3_purchases'] = customer_txn.transform(lambda x: x.rolling(3, min_periods=1).mean())\n",
    "\n",
    "# 6-purchase moving average\n",
    "df_final['ma_6_purchases'] = customer_txn.transform(lambda x: x.rolling(6, min_periods=1).mean())\n",
    "\n",
    "# 3. Time-based Aggregation of Purchases\n",
    "# Extract time components\n",
    "df_final['purchase_month'] = df_final['purchase_date'].dt.month\n",
    "df_final['purchase_day_of_week'] = df_final['purchase_date'].dt.dayofweek\n",
    "df_final['purchase_hour'] = df_final['purchase_date'].dt.hour\n",
    "\n",
    "# Time since previous purchase (by customer)\n",
    "df_final['days_since_prev_purchase'] = df_final.groupby('customer_id_new')['purchase_date'].diff().dt.days\n",
    "\n",
    "# Purchase frequency (purchases per month)\n",
    "purchase_counts = df_final.groupby(['customer_id_new', df_final['purchase_date'].dt.to_period('M')]).size().reset_index(name='monthly_purchase_count')\n",
    "monthly_avg = purchase_counts.groupby('customer_id_new')['monthly_purchase_count'].mean().reset_index(name='avg_monthly_purchases')\n",
    "df_final = df_final.merge(monthly_avg, on='customer_id_new', how='left')\n",
    "\n",
    "# Seasonal purchase patterns\n",
    "df_final['purchase_quarter'] = df_final['purchase_date'].dt.quarter\n",
    "quarter_spend = df_final.groupby(['customer_id_new', 'purchase_quarter'])['purchase_amount'].mean().unstack().fillna(0)\n",
    "for q in range(1, 5):\n",
    "    if q in quarter_spend.columns:\n",
    "        df_final = df_final.merge(quarter_spend[q].rename(f'avg_q{q}_spend').reset_index(), on='customer_id_new', how='left')\n",
    "\n",
    "# 4. Category Engagement Features\n",
    "# Calculate category preferences\n",
    "category_counts = df_final.groupby(['customer_id_new', 'product_category']).size().reset_index(name='category_purchase_count')\n",
    "total_purchases = category_counts.groupby('customer_id_new')['category_purchase_count'].sum().reset_index(name='total_purchases')\n",
    "category_counts = category_counts.merge(total_purchases, on='customer_id_new')\n",
    "category_counts['category_preference'] = category_counts['category_purchase_count'] / category_counts['total_purchases']\n",
    "\n",
    "# Get top category for each customer\n",
    "top_categories = category_counts.sort_values(['customer_id_new', 'category_preference'], ascending=[True, False])\n",
    "top_categories = top_categories.groupby('customer_id_new').first().reset_index()[['customer_id_new', 'product_category']]\n",
    "top_categories.rename(columns={'product_category': 'preferred_category'}, inplace=True)\n",
    "\n",
    "# Merge back to original dataframe\n",
    "df_final = df_final.merge(top_categories, on='customer_id_new', how='left')\n",
    "\n",
    "# 5. Social Media Platform Engagement\n",
    "# Create dummy variables for social media platforms\n",
    "sm_dummies = pd.get_dummies(df_final['social_media_platform'], prefix='sm')\n",
    "df_final = pd.concat([df_final, sm_dummies], axis=1)\n",
    "\n",
    "# Calculate platform-specific engagement\n",
    "for platform in df_final['social_media_platform'].unique():\n",
    "    mask = df_final['social_media_platform'] == platform\n",
    "    df_final.loc[mask, f'{platform}_engagement'] = df_final.loc[mask, 'engagement_score']"
   ],
   "id": "2f34cbc04437e837",
   "outputs": [],
   "execution_count": 124
  },
  {
   "metadata": {
    "ExecuteTime": {
     "end_time": "2025-03-16T16:52:12.727669Z",
     "start_time": "2025-03-16T16:52:12.707450Z"
    }
   },
   "cell_type": "code",
   "source": [
    "df_final.head()\n",
    "\n",
    "# saving the data\n",
    "\n",
    "df_final.to_csv(\"final_customer_data_[Databases-Peer-2].csv.\")"
   ],
   "id": "27f21bdd31fa250b",
   "outputs": [],
   "execution_count": 126
  }
 ],
 "metadata": {
  "kernelspec": {
   "display_name": "Python 3",
   "language": "python",
   "name": "python3"
  },
  "language_info": {
   "codemirror_mode": {
    "name": "ipython",
    "version": 2
   },
   "file_extension": ".py",
   "mimetype": "text/x-python",
   "name": "python",
   "nbconvert_exporter": "python",
   "pygments_lexer": "ipython2",
   "version": "2.7.6"
  }
 },
 "nbformat": 4,
 "nbformat_minor": 5
}
